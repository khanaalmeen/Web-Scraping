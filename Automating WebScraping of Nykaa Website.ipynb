{
 "cells": [
  {
   "cell_type": "code",
   "execution_count": null,
   "id": "1edae2fb",
   "metadata": {},
   "outputs": [],
   "source": [
    "#pip install AutoScraper"
   ]
  },
  {
   "cell_type": "code",
   "execution_count": 14,
   "id": "04f1cb26",
   "metadata": {},
   "outputs": [],
   "source": [
    "from autoscraper import AutoScraper\n"
   ]
  },
  {
   "cell_type": "code",
   "execution_count": 15,
   "id": "468eb9a5",
   "metadata": {},
   "outputs": [],
   "source": [
    "nykaa_url=\"https://www.nykaa.com/search/result/?q=foundation\""
   ]
  },
  {
   "cell_type": "code",
   "execution_count": 16,
   "id": "c27b183a",
   "metadata": {},
   "outputs": [],
   "source": [
    "wanted_list=[\"M.A.C Studio Fix Fluid SPF 15\",'₹2900']"
   ]
  },
  {
   "cell_type": "code",
   "execution_count": 17,
   "id": "79563a59",
   "metadata": {
    "collapsed": true
   },
   "outputs": [
    {
     "name": "stdout",
     "output_type": "stream",
     "text": [
      "['Nykaa All Day Matte Long Wear Liquid Foundation With Pump', 'Lakme Absolute Skin Natural Mousse Mattreal Foundation', 'Maybelline New York Super Stay Full Coverage Foundation', 'Charlotte Tilbury Airbrush Flawless Foundation', 'Kay Beauty Hydrating Foundation', 'Huda Beauty Fauxfilter Luminous Matte Full Coverage Liquid F...', 'Max Factor Lasting Performance Foundation', 'Mamaearth Glow Serum Foundation With Vitamin C & Turmeric Fo...', 'Rimmel London Lasting Finish 25 Hour Foundation Spf 20', 'Lotus Make-Up Xpress Glow 10 in 1 Daily Beauty Cream SPF 25 ...', 'Maybelline New York Fit Me Matte+Poreless Liquid Foundation ...', 'M.A.C Studio Fix Powder Plus Foundation', 'M.A.C Studio Fix Fluid SPF 15 Mini', 'M.A.C Studio Fix Fluid SPF 15', 'Lakme 9 to 5 Primer + Matte Powder Foundation Compact', 'Daily Life Forever52 Ultra Definition Liquid Foundation', 'PAC HD Liquid Foundation', 'Lakme 9 To 5 Primer + Matte Perfect Cover Foundation', '₹599', '₹638', '₹525', '₹4000', '₹1200', '₹3300', '₹488', '₹509', '₹462', '₹293', '₹384', '₹2900', '₹239', '₹1750', '₹510', '₹854', '₹895', '₹425']\n"
     ]
    }
   ],
   "source": [
    "scraper=AutoScraper()\n",
    "result=scraper.build(amazon_url,wanted_list)\n",
    "print(result)"
   ]
  },
  {
   "cell_type": "code",
   "execution_count": 18,
   "id": "e19c4cfb",
   "metadata": {
    "collapsed": true
   },
   "outputs": [
    {
     "data": {
      "text/plain": [
       "{'rule_8xaa': ['Nykaa All Day Matte Long Wear Liquid Foundation With Pump',\n",
       "  'Lakme Absolute Skin Natural Mousse Mattreal Foundation',\n",
       "  'Maybelline New York Super Stay Full Coverage Foundation',\n",
       "  'Charlotte Tilbury Airbrush Flawless Foundation',\n",
       "  'Kay Beauty Hydrating Foundation',\n",
       "  'Huda Beauty Fauxfilter Luminous Matte Full Coverage Liquid F...',\n",
       "  'Max Factor Lasting Performance Foundation',\n",
       "  'Mamaearth Glow Serum Foundation With Vitamin C & Turmeric Fo...',\n",
       "  'Rimmel London Lasting Finish 25 Hour Foundation Spf 20',\n",
       "  'Lotus Make-Up Xpress Glow 10 in 1 Daily Beauty Cream SPF 25 ...',\n",
       "  'Maybelline New York Fit Me Matte+Poreless Liquid Foundation ...',\n",
       "  'M.A.C Studio Fix Powder Plus Foundation',\n",
       "  'Maybelline New York Fit Me Matte+Poreless Liquid Foundation ...',\n",
       "  'M.A.C Studio Fix Fluid SPF 15 Mini',\n",
       "  'M.A.C Studio Fix Fluid SPF 15',\n",
       "  'Lakme 9 to 5 Primer + Matte Powder Foundation Compact',\n",
       "  'Daily Life Forever52 Ultra Definition Liquid Foundation',\n",
       "  'Maybelline New York Fit Me Matte+Poreless Liquid Foundation ...',\n",
       "  'PAC HD Liquid Foundation',\n",
       "  'Lakme 9 To 5 Primer + Matte Perfect Cover Foundation'],\n",
       " 'rule_qj3r': ['₹599',\n",
       "  '₹638',\n",
       "  '₹525',\n",
       "  '₹4000',\n",
       "  '₹1200',\n",
       "  '₹3300',\n",
       "  '₹488',\n",
       "  '₹509',\n",
       "  '₹462',\n",
       "  '₹293',\n",
       "  '₹384',\n",
       "  '₹2900',\n",
       "  '₹239',\n",
       "  '₹1750',\n",
       "  '₹2900',\n",
       "  '₹510',\n",
       "  '₹854',\n",
       "  '₹384',\n",
       "  '₹895',\n",
       "  '₹425'],\n",
       " 'rule_79pf': ['₹599',\n",
       "  '₹638',\n",
       "  '₹525',\n",
       "  '₹4000',\n",
       "  '₹1200',\n",
       "  '₹3300',\n",
       "  '₹488',\n",
       "  '₹509',\n",
       "  '₹462',\n",
       "  '₹293',\n",
       "  '₹384',\n",
       "  '₹2900',\n",
       "  '₹239',\n",
       "  '₹1750',\n",
       "  '₹2900',\n",
       "  '₹510',\n",
       "  '₹854',\n",
       "  '₹384',\n",
       "  '₹895',\n",
       "  '₹425']}"
      ]
     },
     "execution_count": 18,
     "metadata": {},
     "output_type": "execute_result"
    }
   ],
   "source": [
    "scraper.get_result_similar(nykaa_url,grouped=True)"
   ]
  },
  {
   "cell_type": "code",
   "execution_count": 21,
   "id": "720f7dd8",
   "metadata": {},
   "outputs": [],
   "source": [
    "scraper.set_rule_aliases({'rule_8xaa':'Title','rule_79pf':'Price'})\n",
    "scraper.keep_rules(['rule_8xaa','rule_79pf'])\n",
    "scraper.save(\"nykaa-search\")"
   ]
  },
  {
   "cell_type": "code",
   "execution_count": 24,
   "id": "5e8cbfb4",
   "metadata": {},
   "outputs": [],
   "source": [
    "results=scraper.get_result_similar(\"https://www.nykaa.com/search/result/?q=loreal\",group_by_alias=True)"
   ]
  },
  {
   "cell_type": "code",
   "execution_count": 25,
   "id": "b1217ba3",
   "metadata": {
    "collapsed": true
   },
   "outputs": [
    {
     "data": {
      "text/plain": [
       "[\"L'Oreal Professionnel Absolut Repair Shampoo with Protein an...\",\n",
       " \"L'Oreal Professionnel Absolut Repair Hair Mask with Protein ...\",\n",
       " \"L'Oreal Paris Revitalift 1.5% Hyaluronic Acid Serum\",\n",
       " 'LOreal Professionnel X-Tenso Care Pro-Keratine + Incell Sham...',\n",
       " \"L'Oreal Professionnel X-Tenso Care Shampoo Sulfate Free\",\n",
       " 'LOreal Professionnel X-Tenso Care Masque',\n",
       " \"L'Oreal Paris Elseve Extraordinary Oil Hair Serum\",\n",
       " \"L'Oreal Professionnel X-Tenso Care Masque Sulfate Free\",\n",
       " \"L'Oreal Professionnel X-Tenso Care Sulfate free Shampoo & Ma...\",\n",
       " \"L'Oreal Professionnel Absolut Repair Shampoo 300ml & Hair Ma...\",\n",
       " \"L'Oreal Professionnel X-Tenso Care Serum\",\n",
       " \"L'Oreal Paris Paris Revitalift Hyaluronic Acid Serum\",\n",
       " \"L'Oreal Professionnel X-Tenso Shampoo + Masque + Serum\",\n",
       " \"L'Oreal Paris Dream Lengths Shampoo\",\n",
       " \"L'Oreal Paris Magic Retouch Instant Root Concealer Spray\",\n",
       " 'LOreal Professionnel Series Expert Resveratrol Vitamino Colo...',\n",
       " \"L'Oreal Paris Elseve Extraordinary Oil Hair Serum\",\n",
       " \"L'Oreal Paris Casting Creme Gloss Hair Color\",\n",
       " \"L'Oreal Professionnel X-Tenso Care Pro-Keratine Shampoo & Ma...\",\n",
       " \"L'Oreal Paris Elseve Extraordinary Oil Hair Serum\"]"
      ]
     },
     "execution_count": 25,
     "metadata": {},
     "output_type": "execute_result"
    }
   ],
   "source": [
    "results['Title']"
   ]
  }
 ],
 "metadata": {
  "kernelspec": {
   "display_name": "Python 3 (ipykernel)",
   "language": "python",
   "name": "python3"
  },
  "language_info": {
   "codemirror_mode": {
    "name": "ipython",
    "version": 3
   },
   "file_extension": ".py",
   "mimetype": "text/x-python",
   "name": "python",
   "nbconvert_exporter": "python",
   "pygments_lexer": "ipython3",
   "version": "3.9.7"
  }
 },
 "nbformat": 4,
 "nbformat_minor": 5
}
